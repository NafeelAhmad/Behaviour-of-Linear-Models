{
 "cells": [
  {
   "cell_type": "markdown",
   "metadata": {},
   "source": [
    "<h2><font color='Pink'> 8F: Implementing Platt Scaling to find P(Y==1|X)</font></h2>"
   ]
  },
  {
   "cell_type": "markdown",
   "metadata": {},
   "source": [
    "Check this <a href='https://drive.google.com/open?id=133odBinMOIVb_rh_GQxxsyMRyW-Zts7a'>PDF</a>\n",
    "<img src='https://i.imgur.com/CAMnVnh.png'>\n"
   ]
  },
  {
   "cell_type": "markdown",
   "metadata": {},
   "source": [
    "\n",
    "> 4. Apply SGD algorithm with ($f_{cv}$, $y_{cv}$) and find the weight $W$ intercept $b$ ```Note: here our data is of one dimensional so we will have a one dimensional weight vector i.e W.shape (1,)``` \n",
    "\n",
    "> Note1: Don't forget to change the values of $y_{cv}$ as mentioned in the above image. you will calculate y+, y- based on data points in train data\n",
    "\n",
    "> Note2: the Sklearn's SGD algorithm doesn't support the real valued outputs, you need to use the code that was done in the `'Logistic Regression with SGD and L2'` Assignment after modifying loss function, and use same parameters that used in that assignment.\n",
    "<img src='https://i.imgur.com/zKYE9Oc.png'>\n",
    "if Y[i] is 1, it will be replaced with y+ value else it will replaced with y- value\n",
    "\n",
    "> 5. For a given data point from $X_{test}$, $P(Y=1|X) = \\frac{1}{1+exp(-(W*f_{test}+ b))}$ where ` `$f_{test}$ ```= decision_function(```$X_{test}$```)```, W and b will be learned as metioned in the above step"
   ]
  },
  {
   "cell_type": "markdown",
   "metadata": {},
   "source": [
    "__Note: in the above algorithm, the steps 2, 4 might need hyper parameter tuning, To reduce the complexity of the assignment we are excluding the hyerparameter tuning part, but intrested students can try that__"
   ]
  },
  {
   "cell_type": "markdown",
   "metadata": {},
   "source": [
    "\n",
    "If any one wants to try other calibration algorithm istonic regression also please check these tutorials\n",
    "\n",
    "1. http://fa.bianp.net/blog/tag/scikit-learn.html#fn:1\n",
    "\n",
    "2. https://drive.google.com/open?id=1MzmA7QaP58RDzocB0RBmRiWfl7Co_VJ7\n",
    "\n",
    "3. https://drive.google.com/open?id=133odBinMOIVb_rh_GQxxsyMRyW-Zts7a\n",
    "\n",
    "4. https://stat.fandom.com/wiki/Isotonic_regression#Pool_Adjacent_Violators_Algorithm\n"
   ]
  },
  {
   "cell_type": "code",
   "execution_count": 1,
   "metadata": {},
   "outputs": [],
   "source": [
    "import numpy as np\n",
    "import pandas as pd\n",
    "from sklearn.datasets import make_classification\n",
    "import numpy as np\n",
    "from sklearn.svm import SVC"
   ]
  },
  {
   "cell_type": "code",
   "execution_count": 2,
   "metadata": {},
   "outputs": [],
   "source": [
    "X, y = make_classification(n_samples=5000, n_features=5, n_redundant=2,\n",
    "                           n_classes=2, weights=[0.7], class_sep=0.7, random_state=15)"
   ]
  },
  {
   "cell_type": "code",
   "execution_count": 35,
   "metadata": {},
   "outputs": [],
   "source": [
    "from sklearn.model_selection import train_test_split\n",
    "\n",
    "x_train, x_test, y_train, y_test = train_test_split(X, y, test_size=0.2,train_size=0.8)\n",
    "x_train, x_cv, y_train, y_cv = train_test_split(x_train,y_train,test_size = 0.25,train_size =0.75)"
   ]
  },
  {
   "cell_type": "code",
   "execution_count": 36,
   "metadata": {},
   "outputs": [
    {
     "data": {
      "text/plain": [
       "SVC(C=100, gamma=0.001)"
      ]
     },
     "execution_count": 36,
     "metadata": {},
     "output_type": "execute_result"
    }
   ],
   "source": [
    "rbf=SVC(kernel=\"rbf\",C=100,gamma=0.001)\n",
    "rbf.fit(x_train,y_train)"
   ]
  },
  {
   "cell_type": "code",
   "execution_count": 37,
   "metadata": {},
   "outputs": [],
   "source": [
    "sup_vecs=rbf.support_vectors_  \n",
    "dual_coefs=rbf.dual_coef_\n",
    "intercept=rbf.intercept_"
   ]
  },
  {
   "cell_type": "code",
   "execution_count": 38,
   "metadata": {},
   "outputs": [],
   "source": [
    "#https://stackoverflow.com/questions/28503932/calculating-decision-function-of-svm-manually\n",
    "def decision_function(x_cv,sup_vecs,intercept,gamma=0.001):\n",
    "    predict=[]    \n",
    "    decision=[]\n",
    "    for xq in x_cv:\n",
    "        dec_func = 0\n",
    "        for j in range(len(sup_vecs)):\n",
    "            norm2 = np.linalg.norm(sup_vecs[j, :] -xq)**2\n",
    "            dec_func += dual_coefs[0, j] * np.exp(-gamma*norm2) # calculating the sign\n",
    "        dec_func += intercept\n",
    "        decision.append(dec_func)\n",
    "        if (dec_func)<0:               \n",
    "            predict.append(0)\n",
    "        else:\n",
    "            predict.append(1)\n",
    "    return decision, predict"
   ]
  },
  {
   "cell_type": "code",
   "execution_count": 39,
   "metadata": {},
   "outputs": [],
   "source": [
    "d_f,f_cv = decision_function(x_cv,sup_vecs,intercept,gamma=0.001)"
   ]
  },
  {
   "cell_type": "code",
   "execution_count": 40,
   "metadata": {},
   "outputs": [],
   "source": [
    "count_plus = list(y_train).count(1)\n",
    "count_minus = list(y_train).count(0)\n",
    "y_plus = (count_plus + 1) / (count_plus + 2)\n",
    "y_minus = 1 / (count_minus + 2)"
   ]
  },
  {
   "cell_type": "code",
   "execution_count": 41,
   "metadata": {},
   "outputs": [],
   "source": [
    "#Calculating new Y_CV for calibration\n",
    "newY_cv = []\n",
    "for i in y_cv:\n",
    "    if i == 1:\n",
    "        newY_cv.append(y_plus)\n",
    "    else:\n",
    "        newY_cv.append(y_minus)\n",
    "newY_cv = np.array(newY_cv)"
   ]
  },
  {
   "cell_type": "code",
   "execution_count": 57,
   "metadata": {},
   "outputs": [],
   "source": [
    "def initialize_weights(row_vector):\n",
    "    ''' we will initializing our weights and bias'''\n",
    "    w=np.zeros_like(row_vector)\n",
    "    b=0\n",
    "    return w,b"
   ]
  },
  {
   "cell_type": "code",
   "execution_count": 64,
   "metadata": {},
   "outputs": [],
   "source": [
    "def sigmoid(w,x,b):\n",
    "    return 1/(1+np.exp(-(np.dot(x,w.T)+b)))"
   ]
  },
  {
   "cell_type": "code",
   "execution_count": 65,
   "metadata": {},
   "outputs": [],
   "source": [
    "def gradient_dw(x,y,w,b,alpha,N):\n",
    "    ''' we will compute the gardient w.r.to w '''\n",
    "    sigmoid1 = sigmoid(w,x,b)\n",
    "    dw= ((x*((y-sigmoid1) + b))-((alpha/N)*w))\n",
    "    return dw"
   ]
  },
  {
   "cell_type": "code",
   "execution_count": 66,
   "metadata": {},
   "outputs": [],
   "source": [
    "def gradient_db(x,y,w,b):\n",
    "     '''In this function, we will compute gradient w.r.to b '''\n",
    "    db=y-sigmoid(w,x,b)\n",
    "    return db"
   ]
  },
  {
   "cell_type": "code",
   "execution_count": 67,
   "metadata": {},
   "outputs": [],
   "source": [
    "def logloss(w,x,y,b):\n",
    "    val=sigmoid(w,x,b)\n",
    "    return -np.mean(y*np.log10(val)+(1-y)*np.log10(1-val))"
   ]
  },
  {
   "cell_type": "code",
   "execution_count": 68,
   "metadata": {},
   "outputs": [],
   "source": [
    "from tqdm import tqdm\n",
    "def train(f_cv,y_cv,epochs,alpha,eta0):\n",
    "    ''' we will implementing logistic regression from scratch'''\n",
    "    train_loss = []\n",
    "    test_loss = []\n",
    "    w,b = initialize_weights(f_cv[0]) # Initializing the weights\n",
    "    N = len(f_cv)\n",
    "    for i in tqdm(range(epochs)):\n",
    "        test_loss.append(i)\n",
    "        for j in range(N):\n",
    "            dw=gradient_dw(f_cv[j], y_cv[j],w,b,alpha,N)\n",
    "            db=gradient_db(f_cv[j], y_cv[j],w,b)\n",
    "            w=w+eta0*dw           #updating w, b\n",
    "            b=b+eta0*db  \n",
    "        s = logloss(w,f_cv,newY_cv,b)  \n",
    "        train_loss.append(s)    # storing all the train loss values in a list\n",
    "    return w,b,test_loss,train_loss"
   ]
  },
  {
   "cell_type": "code",
   "execution_count": 69,
   "metadata": {},
   "outputs": [
    {
     "name": "stderr",
     "output_type": "stream",
     "text": [
      "100%|██████████████████████████████████████████████████████████████████████████████████| 45/45 [00:01<00:00, 28.61it/s]\n"
     ]
    }
   ],
   "source": [
    "alpha=0.001\n",
    "eta0=0.001\n",
    "N=len(x_train)\n",
    "epochs=45\n",
    "w,b,test_loss,train_loss=train(d_f,newY_cv,epochs,alpha,eta0)"
   ]
  },
  {
   "cell_type": "code",
   "execution_count": 70,
   "metadata": {},
   "outputs": [
    {
     "data": {
      "text/plain": [
       "<matplotlib.legend.Legend at 0x2f0d6517048>"
      ]
     },
     "execution_count": 70,
     "metadata": {},
     "output_type": "execute_result"
    },
    {
     "data": {
      "image/png": "[encoded data removed]",
      "text/plain": [
       "<Figure size 576x432 with 1 Axes>"
      ]
     },
     "metadata": {},
     "output_type": "display_data"
    }
   ],
   "source": [
    "%matplotlib inline\n",
    "import matplotlib.pyplot as plt\n",
    "plt.figure(figsize=(8,6))\n",
    "plt.grid()\n",
    "plt.plot(test_loss,train_loss, label='test log loss')\n",
    "plt.scatter(test_loss,train_loss)\n",
    "plt.title('log loss curve of logistic regression')\n",
    "plt.xlabel('epoch number')\n",
    "plt.ylabel(\"log loss\")\n",
    "plt.legend()"
   ]
  },
  {
   "cell_type": "code",
   "execution_count": 92,
   "metadata": {},
   "outputs": [],
   "source": [
    "f_test, label = decision_function(x_test, sup_vecs, intercept, gamma = 0.001)"
   ]
  },
  {
   "cell_type": "code",
   "execution_count": 93,
   "metadata": {},
   "outputs": [],
   "source": [
    "def probability(w, ftest, b):\n",
    "    x = 1 / (1 + np.exp(-w*f_test + b))\n",
    "    return x"
   ]
  },
  {
   "cell_type": "code",
   "execution_count": 95,
   "metadata": {},
   "outputs": [
    {
     "name": "stdout",
     "output_type": "stream",
     "text": [
      "[[7.22417943e-03]\n",
      " [1.48644236e-05]\n",
      " [1.17486219e-02]\n",
      " [4.52418852e-04]\n",
      " [1.08991207e-04]\n",
      " [7.76159856e-05]\n",
      " [8.82028765e-01]\n",
      " [9.99226906e-01]\n",
      " [9.92856850e-01]\n",
      " [3.40793046e-04]]\n"
     ]
    }
   ],
   "source": [
    "probab = probability(w, f_test, b)\n",
    "print(probab[:10])"
   ]
  }
 ],
 "metadata": {
  "kernelspec": {
   "display_name": "Python 3",
   "language": "python",
   "name": "python3"
  },
  "language_info": {
   "codemirror_mode": {
    "name": "ipython",
    "version": 3
   },
   "file_extension": ".py",
   "mimetype": "text/x-python",
   "name": "python",
   "nbconvert_exporter": "python",
   "pygments_lexer": "ipython3",
   "version": "3.6.5"
  }
 },
 "nbformat": 4,
 "nbformat_minor": 2
}
